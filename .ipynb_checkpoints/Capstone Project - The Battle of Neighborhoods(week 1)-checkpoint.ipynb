{
 "cells": [
  {
   "cell_type": "markdown",
   "metadata": {},
   "source": [
    "# Capstone Project - The Battle of Neighborhoods (Week 1)\n",
    "\n",
    "## Rome vs NewYorkCity"
   ]
  },
  {
   "cell_type": "markdown",
   "metadata": {},
   "source": [
    "#### A description of the problem and a discussion of the background. \n",
    "\n",
    "One interesting idea would be to compare the neighborhoods of Rome, with the neighbourhoods of New York and determine how similar or dissimilar they are. \n",
    "\n",
    "Rome's history spans 28 centuries. While Roman mythology dates the founding of Rome at around 753 BC, the site has been inhabited for much longer, making it one of the oldest continuously occupied cities in Europe.\n",
    "As of 2020, Rome is ranked as an Alpha global city by the Globalization and World Cities Research Network. In 2019, Rome was the 11th most visited city in the world with 10.1 million tourists, the third most visited in the European Union, and the most popular tourist destination in Italy. Its historic centre is listed by UNESCO as a World Heritage Site. (https://en.wikipedia.org/wiki/Rome)\n",
    "Rome today is one of the most important tourist destinations of the world, due to the incalculable immensity of its archaeological and artistic treasures, as well as for the charm of its unique traditions, the beauty of its panoramic views, and the majesty of its magnificent \"villas\" (parks).\n",
    "\n",
    "New York City traces its origins to a trading post founded by colonists from the Dutch Republic in 1624 on Lower Manhattan. New York City has been described as the cultural, financial, and media capital of the world, significantly influencing commerce, entertainment, research, technology, education, politics, tourism, art, fashion, and sports. Home to the headquarters of the United Nations, New York is an important center for international diplomacy. (https://en.wikipedia.org/wiki/New_York_City#Culture_and_contemporary_life)\n",
    "Tourism is a vital industry for New York City, which has witnessed a growing combined volume of international and domestic tourists, receiving an eighth consecutive annual record of approximately 62.8 million visitors in 2017. Approximately 12 million visitors to New York City were from outside the United States, with the highest numbers from the United Kingdom, Canada, Brazil, and China.\n",
    "\n",
    "These are two cities with a profoundly different history and today they are among the most visited cities in the world. It is interesting to understand how cities have evolved over time and how they present themselves now.\n",
    "\n",
    "It is therefore interesting to understand what the similarities and differences are."
   ]
  },
  {
   "cell_type": "markdown",
   "metadata": {},
   "source": [
    "#### A description of the data and how it will be used to solve the problem. \n",
    "\n",
    "###### New York City data: \n",
    "The city of New York is administratively divided into five boroughs coinciding, for judicial purposes, with as many counties. Each borough is then divided into numerous neighborhoods, many of which have a well-defined identity. \n",
    "In order to segement the neighborhoods and explore them, we will essentially need a dataset that contains the 5 boroughs and the neighborhoods that exist in each borough as well as the the latitude and logitude coordinates of each neighborhood.\n",
    "Luckily, this dataset exists for free on the web. Feel free to try to find this dataset on your own, but here is the link to the dataset: https://geo.nyu.edu/catalog/nyu_2451_34572\n",
    "\n",
    "I will use geopy library to get the latitude and longitude values of New York City and the Foursquare API to explore the neighborhoods and segment them.\n",
    "\n",
    "###### Rome data: \n",
    "Rome is divided into 15 municipalities that have their own local administration. A GEOJSON file with the info about Municipalities is available here https://app.geonue.com/geoserver/geonue/limiti_municipiroma/ows?service=WFS&version=1.0.0&request=GetFeature&typeName=limiti_municipiroma&maxfeatures=2000&outputformat=application%2Fjson&srsName=EPSG:4326 .\n",
    "\n",
    "Roma currently has 35 neighbourhoods. A list of all the neighbourhoods is available via Wikipedia to the link https://en.wikipedia.org/wiki/Quarters_of_Rome .\n",
    "\n",
    "I will use geopy library to get the latitude and longitude values of each neighbourhood and the Foursquare API to explore the neighborhoods and segment them."
   ]
  },
  {
   "cell_type": "code",
   "execution_count": null,
   "metadata": {},
   "outputs": [],
   "source": []
  }
 ],
 "metadata": {
  "kernelspec": {
   "display_name": "Python 3",
   "language": "python",
   "name": "python3"
  },
  "language_info": {
   "codemirror_mode": {
    "name": "ipython",
    "version": 3
   },
   "file_extension": ".py",
   "mimetype": "text/x-python",
   "name": "python",
   "nbconvert_exporter": "python",
   "pygments_lexer": "ipython3",
   "version": "3.7.0"
  }
 },
 "nbformat": 4,
 "nbformat_minor": 4
}
